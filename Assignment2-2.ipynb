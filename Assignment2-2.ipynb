{
 "cells": [
  {
   "cell_type": "markdown",
   "metadata": {},
   "source": [
    "__DSC 478__"
   ]
  },
  {
   "cell_type": "markdown",
   "metadata": {},
   "source": [
    "__Jonathan Lynch__"
   ]
  },
  {
   "cell_type": "markdown",
   "metadata": {},
   "source": [
    "# Assignment 2 - Part 2: Classification using scikit-learn"
   ]
  },
  {
   "cell_type": "markdown",
   "metadata": {},
   "source": [
    "## 2-A: Load and process data: transform data into numeric variables, normalize numeric variables (for KNN), split into training and test sets, separate target variable"
   ]
  },
  {
   "cell_type": "markdown",
   "metadata": {},
   "source": [
    "__import libraries and read in file:__"
   ]
  },
  {
   "cell_type": "code",
   "execution_count": 1,
   "metadata": {},
   "outputs": [
    {
     "name": "stdout",
     "output_type": "stream",
     "text": [
      "/Users/jonathanlynch/Desktop/DSC 478\n"
     ]
    },
    {
     "data": {
      "text/html": [
       "<div>\n",
       "<style scoped>\n",
       "    .dataframe tbody tr th:only-of-type {\n",
       "        vertical-align: middle;\n",
       "    }\n",
       "\n",
       "    .dataframe tbody tr th {\n",
       "        vertical-align: top;\n",
       "    }\n",
       "\n",
       "    .dataframe thead th {\n",
       "        text-align: right;\n",
       "    }\n",
       "</style>\n",
       "<table border=\"1\" class=\"dataframe\">\n",
       "  <thead>\n",
       "    <tr style=\"text-align: right;\">\n",
       "      <th></th>\n",
       "      <th>age</th>\n",
       "      <th>income</th>\n",
       "      <th>children</th>\n",
       "      <th>gender</th>\n",
       "      <th>region</th>\n",
       "      <th>married</th>\n",
       "      <th>car</th>\n",
       "      <th>savings_acct</th>\n",
       "      <th>current_acct</th>\n",
       "      <th>mortgage</th>\n",
       "      <th>pep</th>\n",
       "    </tr>\n",
       "    <tr>\n",
       "      <th>id</th>\n",
       "      <th></th>\n",
       "      <th></th>\n",
       "      <th></th>\n",
       "      <th></th>\n",
       "      <th></th>\n",
       "      <th></th>\n",
       "      <th></th>\n",
       "      <th></th>\n",
       "      <th></th>\n",
       "      <th></th>\n",
       "      <th></th>\n",
       "    </tr>\n",
       "  </thead>\n",
       "  <tbody>\n",
       "    <tr>\n",
       "      <th>ID12101</th>\n",
       "      <td>48</td>\n",
       "      <td>17546.0</td>\n",
       "      <td>1</td>\n",
       "      <td>FEMALE</td>\n",
       "      <td>INNER_CITY</td>\n",
       "      <td>NO</td>\n",
       "      <td>NO</td>\n",
       "      <td>NO</td>\n",
       "      <td>NO</td>\n",
       "      <td>NO</td>\n",
       "      <td>YES</td>\n",
       "    </tr>\n",
       "    <tr>\n",
       "      <th>ID12102</th>\n",
       "      <td>40</td>\n",
       "      <td>30085.1</td>\n",
       "      <td>3</td>\n",
       "      <td>MALE</td>\n",
       "      <td>TOWN</td>\n",
       "      <td>YES</td>\n",
       "      <td>YES</td>\n",
       "      <td>NO</td>\n",
       "      <td>YES</td>\n",
       "      <td>YES</td>\n",
       "      <td>NO</td>\n",
       "    </tr>\n",
       "    <tr>\n",
       "      <th>ID12103</th>\n",
       "      <td>51</td>\n",
       "      <td>16575.4</td>\n",
       "      <td>0</td>\n",
       "      <td>FEMALE</td>\n",
       "      <td>INNER_CITY</td>\n",
       "      <td>YES</td>\n",
       "      <td>YES</td>\n",
       "      <td>YES</td>\n",
       "      <td>YES</td>\n",
       "      <td>NO</td>\n",
       "      <td>NO</td>\n",
       "    </tr>\n",
       "    <tr>\n",
       "      <th>ID12104</th>\n",
       "      <td>23</td>\n",
       "      <td>20375.4</td>\n",
       "      <td>3</td>\n",
       "      <td>FEMALE</td>\n",
       "      <td>TOWN</td>\n",
       "      <td>YES</td>\n",
       "      <td>NO</td>\n",
       "      <td>NO</td>\n",
       "      <td>YES</td>\n",
       "      <td>NO</td>\n",
       "      <td>NO</td>\n",
       "    </tr>\n",
       "    <tr>\n",
       "      <th>ID12105</th>\n",
       "      <td>57</td>\n",
       "      <td>50576.3</td>\n",
       "      <td>0</td>\n",
       "      <td>FEMALE</td>\n",
       "      <td>RURAL</td>\n",
       "      <td>YES</td>\n",
       "      <td>NO</td>\n",
       "      <td>YES</td>\n",
       "      <td>NO</td>\n",
       "      <td>NO</td>\n",
       "      <td>NO</td>\n",
       "    </tr>\n",
       "  </tbody>\n",
       "</table>\n",
       "</div>"
      ],
      "text/plain": [
       "         age   income  children  gender      region married  car savings_acct  \\\n",
       "id                                                                              \n",
       "ID12101   48  17546.0         1  FEMALE  INNER_CITY      NO   NO           NO   \n",
       "ID12102   40  30085.1         3    MALE        TOWN     YES  YES           NO   \n",
       "ID12103   51  16575.4         0  FEMALE  INNER_CITY     YES  YES          YES   \n",
       "ID12104   23  20375.4         3  FEMALE        TOWN     YES   NO           NO   \n",
       "ID12105   57  50576.3         0  FEMALE       RURAL     YES   NO          YES   \n",
       "\n",
       "        current_acct mortgage  pep  \n",
       "id                                  \n",
       "ID12101           NO       NO  YES  \n",
       "ID12102          YES      YES   NO  \n",
       "ID12103          YES       NO   NO  \n",
       "ID12104          YES       NO   NO  \n",
       "ID12105           NO       NO   NO  "
      ]
     },
     "execution_count": 1,
     "metadata": {},
     "output_type": "execute_result"
    }
   ],
   "source": [
    "import numpy as np\n",
    "import pandas as pd\n",
    "from sklearn.model_selection import train_test_split\n",
    "from sklearn import neighbors, tree, naive_bayes\n",
    "from sklearn.metrics import classification_report\n",
    "from sklearn.metrics import confusion_matrix\n",
    "from sklearn.preprocessing import MinMaxScaler\n",
    "import pylab as plt\n",
    "\n",
    "%cd \"/Users/jonathanlynch/Desktop/DSC 478\"\n",
    "\n",
    "bank = pd.read_csv(\"bank_data.csv\", index_col=0)\n",
    "\n",
    "bank.head() "
   ]
  },
  {
   "cell_type": "markdown",
   "metadata": {},
   "source": [
    "__Transform data to numeric variables:__"
   ]
  },
  {
   "cell_type": "code",
   "execution_count": 2,
   "metadata": {},
   "outputs": [],
   "source": [
    "region_num = {\"INNER_CITY\": 1, \"TOWN\": 2, \"RURAL\": 3, \"SUBURBAN\": 4}\n",
    "bank = bank.replace(region_num)\n",
    "\n",
    "gender_num = {\"FEMALE\": 0, \"MALE\":1}\n",
    "bank = bank.replace(gender_num)\n",
    "\n",
    "bank.replace(to_replace = ['YES', 'NO'], value = [1, 0], inplace=True) "
   ]
  },
  {
   "cell_type": "code",
   "execution_count": 3,
   "metadata": {},
   "outputs": [
    {
     "data": {
      "text/html": [
       "<div>\n",
       "<style scoped>\n",
       "    .dataframe tbody tr th:only-of-type {\n",
       "        vertical-align: middle;\n",
       "    }\n",
       "\n",
       "    .dataframe tbody tr th {\n",
       "        vertical-align: top;\n",
       "    }\n",
       "\n",
       "    .dataframe thead th {\n",
       "        text-align: right;\n",
       "    }\n",
       "</style>\n",
       "<table border=\"1\" class=\"dataframe\">\n",
       "  <thead>\n",
       "    <tr style=\"text-align: right;\">\n",
       "      <th></th>\n",
       "      <th>age</th>\n",
       "      <th>income</th>\n",
       "      <th>children</th>\n",
       "      <th>gender</th>\n",
       "      <th>region</th>\n",
       "      <th>married</th>\n",
       "      <th>car</th>\n",
       "      <th>savings_acct</th>\n",
       "      <th>current_acct</th>\n",
       "      <th>mortgage</th>\n",
       "      <th>pep</th>\n",
       "    </tr>\n",
       "    <tr>\n",
       "      <th>id</th>\n",
       "      <th></th>\n",
       "      <th></th>\n",
       "      <th></th>\n",
       "      <th></th>\n",
       "      <th></th>\n",
       "      <th></th>\n",
       "      <th></th>\n",
       "      <th></th>\n",
       "      <th></th>\n",
       "      <th></th>\n",
       "      <th></th>\n",
       "    </tr>\n",
       "  </thead>\n",
       "  <tbody>\n",
       "    <tr>\n",
       "      <th>ID12101</th>\n",
       "      <td>48</td>\n",
       "      <td>17546.0</td>\n",
       "      <td>1</td>\n",
       "      <td>0</td>\n",
       "      <td>1</td>\n",
       "      <td>0</td>\n",
       "      <td>0</td>\n",
       "      <td>0</td>\n",
       "      <td>0</td>\n",
       "      <td>0</td>\n",
       "      <td>1</td>\n",
       "    </tr>\n",
       "    <tr>\n",
       "      <th>ID12102</th>\n",
       "      <td>40</td>\n",
       "      <td>30085.1</td>\n",
       "      <td>3</td>\n",
       "      <td>1</td>\n",
       "      <td>2</td>\n",
       "      <td>1</td>\n",
       "      <td>1</td>\n",
       "      <td>0</td>\n",
       "      <td>1</td>\n",
       "      <td>1</td>\n",
       "      <td>0</td>\n",
       "    </tr>\n",
       "    <tr>\n",
       "      <th>ID12103</th>\n",
       "      <td>51</td>\n",
       "      <td>16575.4</td>\n",
       "      <td>0</td>\n",
       "      <td>0</td>\n",
       "      <td>1</td>\n",
       "      <td>1</td>\n",
       "      <td>1</td>\n",
       "      <td>1</td>\n",
       "      <td>1</td>\n",
       "      <td>0</td>\n",
       "      <td>0</td>\n",
       "    </tr>\n",
       "    <tr>\n",
       "      <th>ID12104</th>\n",
       "      <td>23</td>\n",
       "      <td>20375.4</td>\n",
       "      <td>3</td>\n",
       "      <td>0</td>\n",
       "      <td>2</td>\n",
       "      <td>1</td>\n",
       "      <td>0</td>\n",
       "      <td>0</td>\n",
       "      <td>1</td>\n",
       "      <td>0</td>\n",
       "      <td>0</td>\n",
       "    </tr>\n",
       "    <tr>\n",
       "      <th>ID12105</th>\n",
       "      <td>57</td>\n",
       "      <td>50576.3</td>\n",
       "      <td>0</td>\n",
       "      <td>0</td>\n",
       "      <td>3</td>\n",
       "      <td>1</td>\n",
       "      <td>0</td>\n",
       "      <td>1</td>\n",
       "      <td>0</td>\n",
       "      <td>0</td>\n",
       "      <td>0</td>\n",
       "    </tr>\n",
       "  </tbody>\n",
       "</table>\n",
       "</div>"
      ],
      "text/plain": [
       "         age   income  children  gender  region  married  car  savings_acct  \\\n",
       "id                                                                            \n",
       "ID12101   48  17546.0         1       0       1        0    0             0   \n",
       "ID12102   40  30085.1         3       1       2        1    1             0   \n",
       "ID12103   51  16575.4         0       0       1        1    1             1   \n",
       "ID12104   23  20375.4         3       0       2        1    0             0   \n",
       "ID12105   57  50576.3         0       0       3        1    0             1   \n",
       "\n",
       "         current_acct  mortgage  pep  \n",
       "id                                    \n",
       "ID12101             0         0    1  \n",
       "ID12102             1         1    0  \n",
       "ID12103             1         0    0  \n",
       "ID12104             1         0    0  \n",
       "ID12105             0         0    0  "
      ]
     },
     "execution_count": 3,
     "metadata": {},
     "output_type": "execute_result"
    }
   ],
   "source": [
    "bank.head()"
   ]
  },
  {
   "cell_type": "markdown",
   "metadata": {},
   "source": [
    "__Normalize age, income & children using min-max normalization (so all values are between 0 & 1) for KNN classification:__"
   ]
  },
  {
   "cell_type": "code",
   "execution_count": 4,
   "metadata": {},
   "outputs": [],
   "source": [
    "scaler = MinMaxScaler()\n",
    "bank[['age', 'income', 'children']] = scaler.fit_transform(bank[['age', 'income', 'children']])"
   ]
  },
  {
   "cell_type": "code",
   "execution_count": 5,
   "metadata": {},
   "outputs": [
    {
     "data": {
      "text/html": [
       "<div>\n",
       "<style scoped>\n",
       "    .dataframe tbody tr th:only-of-type {\n",
       "        vertical-align: middle;\n",
       "    }\n",
       "\n",
       "    .dataframe tbody tr th {\n",
       "        vertical-align: top;\n",
       "    }\n",
       "\n",
       "    .dataframe thead th {\n",
       "        text-align: right;\n",
       "    }\n",
       "</style>\n",
       "<table border=\"1\" class=\"dataframe\">\n",
       "  <thead>\n",
       "    <tr style=\"text-align: right;\">\n",
       "      <th></th>\n",
       "      <th>age</th>\n",
       "      <th>income</th>\n",
       "      <th>children</th>\n",
       "      <th>gender</th>\n",
       "      <th>region</th>\n",
       "      <th>married</th>\n",
       "      <th>car</th>\n",
       "      <th>savings_acct</th>\n",
       "      <th>current_acct</th>\n",
       "      <th>mortgage</th>\n",
       "      <th>pep</th>\n",
       "    </tr>\n",
       "    <tr>\n",
       "      <th>id</th>\n",
       "      <th></th>\n",
       "      <th></th>\n",
       "      <th></th>\n",
       "      <th></th>\n",
       "      <th></th>\n",
       "      <th></th>\n",
       "      <th></th>\n",
       "      <th></th>\n",
       "      <th></th>\n",
       "      <th></th>\n",
       "      <th></th>\n",
       "    </tr>\n",
       "  </thead>\n",
       "  <tbody>\n",
       "    <tr>\n",
       "      <th>ID12101</th>\n",
       "      <td>0.612245</td>\n",
       "      <td>0.215634</td>\n",
       "      <td>0.333333</td>\n",
       "      <td>0</td>\n",
       "      <td>1</td>\n",
       "      <td>0</td>\n",
       "      <td>0</td>\n",
       "      <td>0</td>\n",
       "      <td>0</td>\n",
       "      <td>0</td>\n",
       "      <td>1</td>\n",
       "    </tr>\n",
       "    <tr>\n",
       "      <th>ID12102</th>\n",
       "      <td>0.448980</td>\n",
       "      <td>0.431395</td>\n",
       "      <td>1.000000</td>\n",
       "      <td>1</td>\n",
       "      <td>2</td>\n",
       "      <td>1</td>\n",
       "      <td>1</td>\n",
       "      <td>0</td>\n",
       "      <td>1</td>\n",
       "      <td>1</td>\n",
       "      <td>0</td>\n",
       "    </tr>\n",
       "    <tr>\n",
       "      <th>ID12103</th>\n",
       "      <td>0.673469</td>\n",
       "      <td>0.198933</td>\n",
       "      <td>0.000000</td>\n",
       "      <td>0</td>\n",
       "      <td>1</td>\n",
       "      <td>1</td>\n",
       "      <td>1</td>\n",
       "      <td>1</td>\n",
       "      <td>1</td>\n",
       "      <td>0</td>\n",
       "      <td>0</td>\n",
       "    </tr>\n",
       "    <tr>\n",
       "      <th>ID12104</th>\n",
       "      <td>0.102041</td>\n",
       "      <td>0.264320</td>\n",
       "      <td>1.000000</td>\n",
       "      <td>0</td>\n",
       "      <td>2</td>\n",
       "      <td>1</td>\n",
       "      <td>0</td>\n",
       "      <td>0</td>\n",
       "      <td>1</td>\n",
       "      <td>0</td>\n",
       "      <td>0</td>\n",
       "    </tr>\n",
       "    <tr>\n",
       "      <th>ID12105</th>\n",
       "      <td>0.795918</td>\n",
       "      <td>0.783987</td>\n",
       "      <td>0.000000</td>\n",
       "      <td>0</td>\n",
       "      <td>3</td>\n",
       "      <td>1</td>\n",
       "      <td>0</td>\n",
       "      <td>1</td>\n",
       "      <td>0</td>\n",
       "      <td>0</td>\n",
       "      <td>0</td>\n",
       "    </tr>\n",
       "  </tbody>\n",
       "</table>\n",
       "</div>"
      ],
      "text/plain": [
       "              age    income  children  gender  region  married  car  \\\n",
       "id                                                                    \n",
       "ID12101  0.612245  0.215634  0.333333       0       1        0    0   \n",
       "ID12102  0.448980  0.431395  1.000000       1       2        1    1   \n",
       "ID12103  0.673469  0.198933  0.000000       0       1        1    1   \n",
       "ID12104  0.102041  0.264320  1.000000       0       2        1    0   \n",
       "ID12105  0.795918  0.783987  0.000000       0       3        1    0   \n",
       "\n",
       "         savings_acct  current_acct  mortgage  pep  \n",
       "id                                                  \n",
       "ID12101             0             0         0    1  \n",
       "ID12102             0             1         1    0  \n",
       "ID12103             1             1         0    0  \n",
       "ID12104             0             1         0    0  \n",
       "ID12105             1             0         0    0  "
      ]
     },
     "execution_count": 5,
     "metadata": {},
     "output_type": "execute_result"
    }
   ],
   "source": [
    "bank.head()"
   ]
  },
  {
   "cell_type": "markdown",
   "metadata": {},
   "source": [
    "__Split into training and test sets:__"
   ]
  },
  {
   "cell_type": "code",
   "execution_count": 6,
   "metadata": {},
   "outputs": [],
   "source": [
    "train, test = train_test_split(bank, test_size = 0.2, shuffle = True)"
   ]
  },
  {
   "cell_type": "markdown",
   "metadata": {},
   "source": [
    "__Separate target variable in both training and test sets:__"
   ]
  },
  {
   "cell_type": "code",
   "execution_count": 7,
   "metadata": {},
   "outputs": [],
   "source": [
    "training_attributes = [\"age\",\"income\",\"children\",\"gender\",\"region\",\"married\",\"car\",\"savings_acct\",\"current_acct\",\"mortgage\"]\n",
    "target = 'pep'\n",
    "\n",
    "train_set = train[training_attributes]\n",
    "train_target = train[target]\n",
    "\n",
    "test_set = test[training_attributes]\n",
    "test_target = test[target]"
   ]
  },
  {
   "cell_type": "markdown",
   "metadata": {},
   "source": [
    "## 2-B: Run scikit-learn's KNN classifier on the test set, generate classification report & confusion matrix. Compute the average accuracy score, and experiment with different values of K and the weight parameter to improve accuracy."
   ]
  },
  {
   "cell_type": "markdown",
   "metadata": {},
   "source": [
    "__Run KNN classifier without weighted distances (k=5, Euclidean distance measure):__"
   ]
  },
  {
   "cell_type": "code",
   "execution_count": 24,
   "metadata": {},
   "outputs": [],
   "source": [
    "from sklearn.preprocessing import StandardScaler\n",
    "from sklearn.model_selection import GridSearchCV\n",
    "clf = neighbors.KNeighborsClassifier()\n",
    "parameters = {'n_neighbors': [1,2,3,4,5,6,7,8,9,10]}\n",
    "gs = GridSearchCV(clf, parameters, verbose=1, cv=5)"
   ]
  },
  {
   "cell_type": "code",
   "execution_count": 25,
   "metadata": {},
   "outputs": [
    {
     "name": "stdout",
     "output_type": "stream",
     "text": [
      "Fitting 5 folds for each of 10 candidates, totalling 50 fits\n"
     ]
    },
    {
     "name": "stderr",
     "output_type": "stream",
     "text": [
      "[Parallel(n_jobs=1)]: Using backend SequentialBackend with 1 concurrent workers.\n",
      "[Parallel(n_jobs=1)]: Done  50 out of  50 | elapsed:    0.4s finished\n"
     ]
    },
    {
     "data": {
      "text/plain": [
       "{'n_neighbors': 10}"
      ]
     },
     "execution_count": 25,
     "metadata": {},
     "output_type": "execute_result"
    }
   ],
   "source": [
    "gs.fit(train_set, train_target)\n",
    "\n",
    "gs.best_params_"
   ]
  },
  {
   "cell_type": "code",
   "execution_count": 21,
   "metadata": {},
   "outputs": [
    {
     "data": {
      "text/plain": [
       "KNeighborsClassifier(metric='euclidean', n_neighbors=10)"
      ]
     },
     "execution_count": 21,
     "metadata": {},
     "output_type": "execute_result"
    }
   ],
   "source": [
    "n_neighbors = 10\n",
    "\n",
    "knn_classifier = neighbors.KNeighborsClassifier(n_neighbors, metric='euclidean')  # knn classifier w/o weighted distances (all points have equal influence)\n",
    "\n",
    "knn_classifier.fit(train_set, train_target)  # fit the classifier on training data"
   ]
  },
  {
   "cell_type": "markdown",
   "metadata": {},
   "source": [
    "__Look at the class predictions:__"
   ]
  },
  {
   "cell_type": "code",
   "execution_count": 22,
   "metadata": {},
   "outputs": [
    {
     "data": {
      "text/plain": [
       "array([0, 1, 1, 1, 1, 0, 0, 1, 1, 1, 0, 0, 0, 0, 1, 0, 1, 1, 0, 0, 1, 1,\n",
       "       0, 0, 0, 0, 1, 0, 1, 0, 1, 1, 0, 0, 1, 0, 1, 0, 1, 0, 0, 1, 1, 1,\n",
       "       0, 0, 0, 0, 1, 0, 0, 0, 0, 0, 1, 0, 0, 0, 0, 1, 0, 1, 1, 0, 1, 0,\n",
       "       0, 0, 0, 0, 0, 0, 1, 0, 1, 1, 0, 1, 0, 1, 0, 1, 1, 0, 0, 1, 0, 0,\n",
       "       0, 1, 0, 0, 0, 1, 1, 0, 1, 0, 0, 0, 1, 0, 0, 0, 0, 0, 1, 0, 0, 0,\n",
       "       1, 0, 1, 0, 1, 1, 1, 0, 1, 0])"
      ]
     },
     "execution_count": 22,
     "metadata": {},
     "output_type": "execute_result"
    }
   ],
   "source": [
    "pred_test_target = knn_classifier.predict(test_set)  # see which classes are predicted by classifier for test set\n",
    "pred_test_target"
   ]
  },
  {
   "cell_type": "markdown",
   "metadata": {},
   "source": [
    "__Look at classification report:__"
   ]
  },
  {
   "cell_type": "code",
   "execution_count": 23,
   "metadata": {},
   "outputs": [
    {
     "name": "stdout",
     "output_type": "stream",
     "text": [
      "              precision    recall  f1-score   support\n",
      "\n",
      "           0       0.67      0.70      0.68        69\n",
      "           1       0.56      0.53      0.55        51\n",
      "\n",
      "    accuracy                           0.62       120\n",
      "   macro avg       0.61      0.61      0.61       120\n",
      "weighted avg       0.62      0.62      0.62       120\n",
      "\n"
     ]
    }
   ],
   "source": [
    "print(classification_report(test_target, pred_test_target))"
   ]
  },
  {
   "cell_type": "markdown",
   "metadata": {},
   "source": [
    "__Generate confusion matrix & visualize results:__"
   ]
  },
  {
   "cell_type": "code",
   "execution_count": 135,
   "metadata": {},
   "outputs": [
    {
     "name": "stdout",
     "output_type": "stream",
     "text": [
      "[[53 17]\n",
      " [23 27]]\n"
     ]
    }
   ],
   "source": [
    "knncm = confusion_matrix(test_target, pred_test_target)\n",
    "print(knncm)"
   ]
  },
  {
   "cell_type": "code",
   "execution_count": 136,
   "metadata": {},
   "outputs": [
    {
     "data": {
      "image/png": "[encoded data removed]",
      "text/plain": [
       "<Figure size 288x288 with 2 Axes>"
      ]
     },
     "metadata": {
      "needs_background": "light"
     },
     "output_type": "display_data"
    }
   ],
   "source": [
    "plt.matshow(knncm,  cmap = plt.cm.Blues)\n",
    "plt.title('Confusion matrix')\n",
    "plt.colorbar()\n",
    "plt.ylabel('Actual')\n",
    "plt.xlabel('Predicted')\n",
    "plt.show()"
   ]
  },
  {
   "cell_type": "markdown",
   "metadata": {},
   "source": [
    "__Compute average accuracy scores on training and test data:__"
   ]
  },
  {
   "cell_type": "code",
   "execution_count": 137,
   "metadata": {},
   "outputs": [
    {
     "name": "stdout",
     "output_type": "stream",
     "text": [
      "average accuracy train: 76.0\n",
      "average accuracy test: 67.0\n"
     ]
    }
   ],
   "source": [
    "train_accuracy = np.round(knn_classifier.score(train_set, train_target)*100,0)  # use score method to get average accuracy for train data\n",
    "test_accuracy = np.round(knn_classifier.score(test_set, test_target)*100,0)     # use score method to get average accuracy for test data\n",
    "\n",
    "print('average accuracy train:', train_accuracy)\n",
    "print('average accuracy test:', test_accuracy)"
   ]
  },
  {
   "cell_type": "markdown",
   "metadata": {},
   "source": [
    "The average accuracy for this KKN classifier (with k=5, a Euclidean distance measure, & using uniform weights) is 67% (for the test set).  This same classifier was also run with different values of K (k=3, k=7, k=9, k=15, & k=20) to determine the best value of K based on the average accuracy (for the test set). The average accuracy with k=3 was 62% (for the test set), the average accuracy with k=7 was 63% (for the test set), the average accuracy with k=9 was 67% (for the test set), the average accuracy with k=15 was 62% (for the test set), and the average accuracy with k=20 was 67% (for the test set)."
   ]
  },
  {
   "cell_type": "markdown",
   "metadata": {},
   "source": [
    "__Run KNN classifier with weighted distances (k=5, Euclidean distance measure):__"
   ]
  },
  {
   "cell_type": "code",
   "execution_count": 144,
   "metadata": {},
   "outputs": [
    {
     "data": {
      "text/plain": [
       "KNeighborsClassifier(metric='euclidean', weights='distance')"
      ]
     },
     "execution_count": 144,
     "metadata": {},
     "output_type": "execute_result"
    }
   ],
   "source": [
    "n_neighbors = 5\n",
    "\n",
    "knn_classifier = neighbors.KNeighborsClassifier(n_neighbors, metric='euclidean', weights='distance')  # knn classifier w/ weighted distances (closer points have more influence)\n",
    "\n",
    "knn_classifier.fit(train_set, train_target)  # fit the classifier on training data"
   ]
  },
  {
   "cell_type": "markdown",
   "metadata": {},
   "source": [
    "__Look at the class predictions for KNN with weighted distances:__"
   ]
  },
  {
   "cell_type": "code",
   "execution_count": 145,
   "metadata": {},
   "outputs": [
    {
     "data": {
      "text/plain": [
       "array([0, 0, 0, 0, 1, 0, 1, 0, 1, 0, 0, 0, 0, 0, 0, 0, 0, 1, 0, 1, 0, 1,\n",
       "       1, 0, 0, 0, 0, 1, 0, 0, 1, 0, 1, 0, 1, 0, 0, 0, 1, 1, 0, 0, 1, 0,\n",
       "       0, 1, 1, 0, 0, 0, 0, 0, 0, 0, 1, 1, 1, 0, 1, 0, 0, 1, 0, 1, 1, 0,\n",
       "       0, 0, 1, 0, 1, 1, 0, 0, 1, 1, 0, 0, 1, 1, 1, 0, 1, 1, 1, 0, 0, 0,\n",
       "       1, 1, 0, 0, 0, 0, 0, 1, 1, 1, 1, 0, 0, 1, 0, 0, 1, 0, 0, 0, 0, 0,\n",
       "       1, 0, 1, 1, 0, 0, 0, 0, 0, 1])"
      ]
     },
     "execution_count": 145,
     "metadata": {},
     "output_type": "execute_result"
    }
   ],
   "source": [
    "pred_test_target = knn_classifier.predict(test_set)  # see which classes are predicted by classifier for test set\n",
    "pred_test_target"
   ]
  },
  {
   "cell_type": "markdown",
   "metadata": {},
   "source": [
    "__Look at classification report for KNN with weighted distances:__"
   ]
  },
  {
   "cell_type": "code",
   "execution_count": 146,
   "metadata": {},
   "outputs": [
    {
     "name": "stdout",
     "output_type": "stream",
     "text": [
      "              precision    recall  f1-score   support\n",
      "\n",
      "           0       0.70      0.74      0.72        70\n",
      "           1       0.61      0.56      0.58        50\n",
      "\n",
      "    accuracy                           0.67       120\n",
      "   macro avg       0.66      0.65      0.65       120\n",
      "weighted avg       0.66      0.67      0.66       120\n",
      "\n"
     ]
    }
   ],
   "source": [
    "print(classification_report(test_target, pred_test_target))"
   ]
  },
  {
   "cell_type": "markdown",
   "metadata": {},
   "source": [
    "__Generate confusion matrix & visualize results for KNN with weighted distances:__"
   ]
  },
  {
   "cell_type": "code",
   "execution_count": 147,
   "metadata": {},
   "outputs": [
    {
     "name": "stdout",
     "output_type": "stream",
     "text": [
      "[[52 18]\n",
      " [22 28]]\n"
     ]
    }
   ],
   "source": [
    "knncm = confusion_matrix(test_target, pred_test_target)\n",
    "print(knncm)"
   ]
  },
  {
   "cell_type": "code",
   "execution_count": 148,
   "metadata": {},
   "outputs": [
    {
     "data": {
      "image/png": "[encoded data removed]",
      "text/plain": [
       "<Figure size 288x288 with 2 Axes>"
      ]
     },
     "metadata": {
      "needs_background": "light"
     },
     "output_type": "display_data"
    }
   ],
   "source": [
    "plt.matshow(knncm,  cmap = plt.cm.Blues)\n",
    "plt.title('Confusion matrix')\n",
    "plt.colorbar()\n",
    "plt.ylabel('Actual')\n",
    "plt.xlabel('Predicted')\n",
    "plt.show()"
   ]
  },
  {
   "cell_type": "markdown",
   "metadata": {},
   "source": [
    "__Compute average accuracy scores on training and test data for KNN with weighted distances:__"
   ]
  },
  {
   "cell_type": "code",
   "execution_count": 149,
   "metadata": {},
   "outputs": [
    {
     "name": "stdout",
     "output_type": "stream",
     "text": [
      "average accuracy train: 100.0\n",
      "average accuracy test: 67.0\n"
     ]
    }
   ],
   "source": [
    "train_accuracy = np.round(knn_classifier.score(train_set, train_target)*100,0)  # use score method to get average accuracy for train data\n",
    "test_accuracy = np.round(knn_classifier.score(test_set, test_target)*100,0)     # use score method to get average accuracy for test data\n",
    "\n",
    "print('average accuracy train:', train_accuracy)\n",
    "print('average accuracy test:', test_accuracy)"
   ]
  },
  {
   "cell_type": "markdown",
   "metadata": {},
   "source": [
    "Additionally, the same values of K (k=3, k=5, k=7, k=9, k=15, & k=20) were also evaluated on this KNN classifier with distance weighting (giving greater influence to close neighbors than those that are further away).  The average accuracy with distance weighting and k=5 was 67% (on the test set), the average accuracy with distance weighting and k=3 was 62% (on the test set), the average accuracy with distance weighting and k=7 was 66% (on the test set), the average accuracy with distance weighting and k=9 was 66% (on the test set), the average accuracy with distance weighting and k=15 was 65% (on the test set), and the average accuracy with distance weighting for k=20 was 68% (on the test set). "
   ]
  },
  {
   "cell_type": "markdown",
   "metadata": {},
   "source": [
    "Overall, it appears that including the parameter for distance weighting in this classifier resulted in either the same or better results across all values of K except for one (k=9).  Based on these experiments and outcomes, I would choose a value of k=20, and include the distance weighting parameter in the classifier to achieve the best result (68% average accuracy for test data).  "
   ]
  },
  {
   "cell_type": "markdown",
   "metadata": {},
   "source": [
    "## 2-C: Classification using scikit-learn's decision tree classifier and Naive Bayes"
   ]
  },
  {
   "cell_type": "markdown",
   "metadata": {},
   "source": [
    "__Run decision tree classifier:__"
   ]
  },
  {
   "cell_type": "code",
   "execution_count": 155,
   "metadata": {},
   "outputs": [],
   "source": [
    "tree_classifier = tree.DecisionTreeClassifier()  # decision tree classifier\n",
    "tree_classifier = tree_classifier.fit(train_set, train_target)    # fit classifier on training data"
   ]
  },
  {
   "cell_type": "markdown",
   "metadata": {},
   "source": [
    "__Look at the class predictions:__"
   ]
  },
  {
   "cell_type": "code",
   "execution_count": 156,
   "metadata": {},
   "outputs": [
    {
     "data": {
      "text/plain": [
       "array([0, 1, 0, 1, 1, 1, 1, 1, 1, 0, 1, 1, 1, 1, 0, 0, 1, 1, 0, 0, 0, 1,\n",
       "       1, 1, 1, 0, 1, 0, 0, 0, 1, 0, 1, 1, 0, 0, 1, 1, 1, 0, 0, 0, 1, 1,\n",
       "       0, 1, 1, 0, 0, 0, 0, 0, 0, 0, 1, 0, 1, 0, 1, 0, 0, 0, 0, 0, 1, 1,\n",
       "       0, 0, 1, 0, 1, 0, 1, 0, 0, 0, 0, 0, 0, 1, 1, 0, 1, 0, 1, 1, 0, 0,\n",
       "       1, 0, 1, 0, 0, 0, 0, 1, 1, 0, 0, 0, 1, 1, 0, 0, 1, 1, 0, 1, 0, 1,\n",
       "       0, 0, 0, 1, 1, 0, 0, 0, 1, 1])"
      ]
     },
     "execution_count": 156,
     "metadata": {},
     "output_type": "execute_result"
    }
   ],
   "source": [
    "pred_test_target = tree_classifier.predict(test_set)  # see which classes are predicted for test set\n",
    "pred_test_target"
   ]
  },
  {
   "cell_type": "markdown",
   "metadata": {},
   "source": [
    "__Look at decision tree classification report:__"
   ]
  },
  {
   "cell_type": "code",
   "execution_count": 157,
   "metadata": {},
   "outputs": [
    {
     "name": "stdout",
     "output_type": "stream",
     "text": [
      "              precision    recall  f1-score   support\n",
      "\n",
      "           0       0.88      0.81      0.84        70\n",
      "           1       0.76      0.84      0.80        50\n",
      "\n",
      "    accuracy                           0.82       120\n",
      "   macro avg       0.82      0.83      0.82       120\n",
      "weighted avg       0.83      0.82      0.83       120\n",
      "\n"
     ]
    }
   ],
   "source": [
    "print(classification_report(test_target, pred_test_target))"
   ]
  },
  {
   "cell_type": "markdown",
   "metadata": {},
   "source": [
    "__Generate confusion matrix & visualize results for decision tree classifier:__"
   ]
  },
  {
   "cell_type": "code",
   "execution_count": 158,
   "metadata": {},
   "outputs": [
    {
     "name": "stdout",
     "output_type": "stream",
     "text": [
      "[[57 13]\n",
      " [ 8 42]]\n"
     ]
    }
   ],
   "source": [
    "treecm = confusion_matrix(test_target, pred_test_target)\n",
    "print(treecm)"
   ]
  },
  {
   "cell_type": "code",
   "execution_count": 159,
   "metadata": {},
   "outputs": [
    {
     "data": {
      "image/png": "[encoded data removed]",
      "text/plain": [
       "<Figure size 288x288 with 2 Axes>"
      ]
     },
     "metadata": {
      "needs_background": "light"
     },
     "output_type": "display_data"
    }
   ],
   "source": [
    "plt.matshow(knncm,  cmap = plt.cm.Blues)\n",
    "plt.title('Confusion matrix')\n",
    "plt.colorbar()\n",
    "plt.ylabel('Actual')\n",
    "plt.xlabel('Predicted')\n",
    "plt.show()"
   ]
  },
  {
   "cell_type": "markdown",
   "metadata": {},
   "source": [
    "__Compute average accuracy scores for decision tree classifier on training and test data:__"
   ]
  },
  {
   "cell_type": "code",
   "execution_count": 160,
   "metadata": {},
   "outputs": [
    {
     "name": "stdout",
     "output_type": "stream",
     "text": [
      "average accuracy train: 100.0\n",
      "average accuracy test: 82.0\n"
     ]
    }
   ],
   "source": [
    "train_accuracy = np.round(tree_classifier.score(train_set, train_target)*100,0)  # use score method to get average accuracy for train data\n",
    "test_accuracy = np.round(tree_classifier.score(test_set, test_target)*100,0)     # use score method to get average accuracy for test data\n",
    "\n",
    "print('average accuracy train:', train_accuracy)\n",
    "print('average accuracy test:', test_accuracy)"
   ]
  },
  {
   "cell_type": "markdown",
   "metadata": {},
   "source": [
    "Comparing the average accuracy scores on the training and test sets for the decision tree classifier, it appears as though this model may be overfit (learned the training data too well), as the accuracy for the training set is 100%.  Typically, this should not be the case, and the parameters of this classifier should be tuned appropriately to adjust. The average accuracy for the test set is 82%, which is still pretty good, and much better than the above results of the KNN classifier.  "
   ]
  },
  {
   "cell_type": "markdown",
   "metadata": {},
   "source": [
    "In terms of the bias/variance tradeoff, decision trees tend to have low bias and high variance (although this does depend on tree depth and other parameters).  This means that in general decision tree classifiers make less assumptions about the data, but will be more affected by small changes in the training set.  Looking at the above results, it would probably be beneficial to tune this model to reduce the accuracy in the training set a bit, but hopefully increase the average accuracy in the test set, ideally resulting in a smaller disparity between the training and testing accuracies.   "
   ]
  },
  {
   "cell_type": "markdown",
   "metadata": {},
   "source": [
    "__Run Gaussian Naive Bayes classifier:__"
   ]
  },
  {
   "cell_type": "code",
   "execution_count": 161,
   "metadata": {},
   "outputs": [],
   "source": [
    "nb_classifier = naive_bayes.GaussianNB()                     # naive bayes classifer\n",
    "nb_classifier = nb_classifier.fit(train_set, train_target)   # fitting the training data"
   ]
  },
  {
   "cell_type": "markdown",
   "metadata": {},
   "source": [
    "__Look at the class predictions:__"
   ]
  },
  {
   "cell_type": "code",
   "execution_count": 162,
   "metadata": {},
   "outputs": [
    {
     "data": {
      "text/plain": [
       "array([1, 0, 0, 0, 0, 0, 1, 1, 1, 0, 0, 0, 1, 0, 0, 0, 0, 1, 0, 1, 0, 0,\n",
       "       1, 0, 1, 0, 1, 0, 1, 0, 0, 1, 0, 0, 0, 1, 0, 0, 0, 1, 0, 0, 1, 0,\n",
       "       1, 1, 1, 0, 0, 0, 0, 1, 0, 0, 1, 0, 1, 1, 1, 0, 0, 0, 0, 1, 1, 0,\n",
       "       0, 0, 1, 1, 0, 0, 0, 0, 0, 0, 0, 0, 0, 1, 0, 1, 0, 0, 0, 1, 0, 0,\n",
       "       1, 0, 1, 1, 1, 0, 0, 0, 1, 0, 1, 0, 0, 0, 0, 0, 1, 0, 0, 0, 0, 1,\n",
       "       0, 1, 1, 0, 1, 0, 0, 1, 0, 1])"
      ]
     },
     "execution_count": 162,
     "metadata": {},
     "output_type": "execute_result"
    }
   ],
   "source": [
    "pred_test_target = nb_classifier.predict(test_set)  # see which classes are predicted for test set\n",
    "pred_test_target"
   ]
  },
  {
   "cell_type": "markdown",
   "metadata": {},
   "source": [
    "__Look at the naive bayes classification report:__"
   ]
  },
  {
   "cell_type": "code",
   "execution_count": 163,
   "metadata": {},
   "outputs": [
    {
     "name": "stdout",
     "output_type": "stream",
     "text": [
      "              precision    recall  f1-score   support\n",
      "\n",
      "           0       0.65      0.71      0.68        70\n",
      "           1       0.53      0.46      0.49        50\n",
      "\n",
      "    accuracy                           0.61       120\n",
      "   macro avg       0.59      0.59      0.59       120\n",
      "weighted avg       0.60      0.61      0.60       120\n",
      "\n"
     ]
    }
   ],
   "source": [
    "print(classification_report(test_target, pred_test_target))"
   ]
  },
  {
   "cell_type": "markdown",
   "metadata": {},
   "source": [
    "__Generate confusion matrix & visualize results for naive bayes classifier:__"
   ]
  },
  {
   "cell_type": "code",
   "execution_count": 164,
   "metadata": {},
   "outputs": [
    {
     "name": "stdout",
     "output_type": "stream",
     "text": [
      "[[50 20]\n",
      " [27 23]]\n"
     ]
    }
   ],
   "source": [
    "nbcm = confusion_matrix(test_target, pred_test_target)\n",
    "print(nbcm)"
   ]
  },
  {
   "cell_type": "code",
   "execution_count": 165,
   "metadata": {},
   "outputs": [
    {
     "data": {
      "image/png": "[encoded data removed]",
      "text/plain": [
       "<Figure size 288x288 with 2 Axes>"
      ]
     },
     "metadata": {
      "needs_background": "light"
     },
     "output_type": "display_data"
    }
   ],
   "source": [
    "plt.matshow(nbcm,  cmap = plt.cm.Blues)\n",
    "plt.title('Confusion matrix')\n",
    "plt.colorbar()\n",
    "plt.ylabel('Actual')\n",
    "plt.xlabel('Predicted')\n",
    "plt.show()"
   ]
  },
  {
   "cell_type": "markdown",
   "metadata": {},
   "source": [
    "__Compute average accuracy scores for naive bayes classifier on training and test data:__"
   ]
  },
  {
   "cell_type": "code",
   "execution_count": 166,
   "metadata": {},
   "outputs": [
    {
     "name": "stdout",
     "output_type": "stream",
     "text": [
      "average accuracy train: 65.0\n",
      "average accuracy test: 61.0\n"
     ]
    }
   ],
   "source": [
    "train_accuracy = np.round(nb_classifier.score(train_set, train_target)*100,0)  # use score method to get average accuracy for train data\n",
    "test_accuracy = np.round(nb_classifier.score(test_set, test_target)*100,0)     # use score method to get average accuracy for test data\n",
    "\n",
    "print('average accuracy train:', train_accuracy)\n",
    "print('average accuracy test:', test_accuracy)"
   ]
  },
  {
   "cell_type": "markdown",
   "metadata": {},
   "source": [
    "Comparing the average accuracy scores on the training and test sets for the naive bayes classifier, the average accuracy for the training set is 65%, and the average accuracy for the test set is 61%.  It appears that this classifier performed worse than both the KNN and decision tree classifiers."
   ]
  },
  {
   "cell_type": "markdown",
   "metadata": {},
   "source": [
    "Although the naive bayes classifier was not very accurate, its training and testing accuracy is the closest of all three models, suggesting that it is a high bias/low variance classifier.  This model makes more assumptions about the underlying structure of the data than the previous two models. This trait however appears to be negatively impacting the classifier's ability to correctly predict the right class, as it has the worst average accuracy of all three classifiers attempted."
   ]
  },
  {
   "cell_type": "markdown",
   "metadata": {},
   "source": [
    "## 2-D: Discuss observations of the above experiments"
   ]
  },
  {
   "cell_type": "markdown",
   "metadata": {},
   "source": [
    "Based on the above experiments, it appears that the decision tree classifier was the most accurate model, with an average accuracy of 82% on the test set.  However, this model is most likely overfit (100% accuracy on the training set), and needs to be appropriately tuned.  Additionally, since the decision tree classifier is a low bias/high variance model, small changes in the training set will likely result in larger variations in the results than the other two classifiers.  The KNN classifier displayed the second highest amount of variance between its average accuracies in the training versus the test set, and also had the second highest average accuracy (68% after introducing weighted distances & tuning the value of k). The Naive Bayes classifier on the other hand, suffers from high bias/low variance.  Although its training and test accuracies were the closest of the three models, its average test accuracy was not very good (only 61%).  For this data set, it seems that using a decision tree classifer with appropriately tuned parameters would be the best choice.     "
   ]
  }
 ],
 "metadata": {
  "kernelspec": {
   "display_name": "Python 3",
   "language": "python",
   "name": "python3"
  },
  "language_info": {
   "codemirror_mode": {
    "name": "ipython",
    "version": 3
   },
   "file_extension": ".py",
   "mimetype": "text/x-python",
   "name": "python",
   "nbconvert_exporter": "python",
   "pygments_lexer": "ipython3",
   "version": "3.8.5"
  }
 },
 "nbformat": 4,
 "nbformat_minor": 4
}
